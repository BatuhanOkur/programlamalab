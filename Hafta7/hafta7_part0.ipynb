{
 "cells": [
  {
   "cell_type": "code",
   "execution_count": 1,
   "metadata": {},
   "outputs": [],
   "source": [
    "import sympy as sym\n",
    "from sympy import Symbol\n",
    "from sympy import pprint"
   ]
  },
  {
   "cell_type": "code",
   "execution_count": 2,
   "metadata": {},
   "outputs": [],
   "source": [
    "p=Symbol('p')\n",
    "x=Symbol('x')\n",
    "n=Symbol('n')"
   ]
  },
  {
   "cell_type": "code",
   "execution_count": 3,
   "metadata": {},
   "outputs": [
    {
     "data": {
      "text/latex": [
       "$\\displaystyle \\frac{n!}{x! \\left(n - x\\right)!}$"
      ],
      "text/plain": [
       "factorial(n)/(factorial(x)*factorial(n - x))"
      ]
     },
     "execution_count": 3,
     "metadata": {},
     "output_type": "execute_result"
    }
   ],
   "source": [
    "m_f_3_part_0=sym.factorial(n)/(sym.factorial(x)*sym.factorial(n-x))\n",
    "m_f_3_part_0"
   ]
  },
  {
   "cell_type": "code",
   "execution_count": 4,
   "metadata": {},
   "outputs": [
    {
     "name": "stdout",
     "output_type": "stream",
     "text": [
      "     n!    \n",
      "───────────\n",
      "x!⋅(n - x)!\n"
     ]
    }
   ],
   "source": [
    "pprint(m_f_3_part_0)"
   ]
  },
  {
   "cell_type": "code",
   "execution_count": 5,
   "metadata": {},
   "outputs": [
    {
     "data": {
      "text/latex": [
       "$\\displaystyle p^{x}$"
      ],
      "text/plain": [
       "p**x"
      ]
     },
     "execution_count": 5,
     "metadata": {},
     "output_type": "execute_result"
    }
   ],
   "source": [
    "m_f_3_part_1=p**x\n",
    "m_f_3_part_1"
   ]
  },
  {
   "cell_type": "code",
   "execution_count": 6,
   "metadata": {},
   "outputs": [
    {
     "name": "stdout",
     "output_type": "stream",
     "text": [
      " x\n",
      "p \n"
     ]
    }
   ],
   "source": [
    "pprint(m_f_3_part_1)"
   ]
  },
  {
   "cell_type": "code",
   "execution_count": 7,
   "metadata": {},
   "outputs": [
    {
     "data": {
      "text/latex": [
       "$\\displaystyle \\left(1 - p\\right)^{n - x}$"
      ],
      "text/plain": [
       "(1 - p)**(n - x)"
      ]
     },
     "execution_count": 7,
     "metadata": {},
     "output_type": "execute_result"
    }
   ],
   "source": [
    "m_f_3_part_2=(1-p)**(n-x)\n",
    "m_f_3_part_2"
   ]
  },
  {
   "cell_type": "code",
   "execution_count": 8,
   "metadata": {},
   "outputs": [
    {
     "name": "stdout",
     "output_type": "stream",
     "text": [
      "       n - x\n",
      "(1 - p)     \n"
     ]
    }
   ],
   "source": [
    "pprint(m_f_3_part_2)"
   ]
  },
  {
   "cell_type": "code",
   "execution_count": 9,
   "metadata": {},
   "outputs": [
    {
     "data": {
      "text/latex": [
       "$\\displaystyle \\frac{p^{x} \\left(1 - p\\right)^{n - x} n!}{x! \\left(n - x\\right)!}$"
      ],
      "text/plain": [
       "p**x*(1 - p)**(n - x)*factorial(n)/(factorial(x)*factorial(n - x))"
      ]
     },
     "execution_count": 9,
     "metadata": {},
     "output_type": "execute_result"
    }
   ],
   "source": [
    "m_f_3=m_f_3_part_0*m_f_3_part_1*m_f_3_part_2\n",
    "m_f_3"
   ]
  },
  {
   "cell_type": "code",
   "execution_count": 10,
   "metadata": {},
   "outputs": [
    {
     "name": "stdout",
     "output_type": "stream",
     "text": [
      " x        n - x   \n",
      "p ⋅(1 - p)     ⋅n!\n",
      "──────────────────\n",
      "   x!⋅(n - x)!    \n"
     ]
    }
   ],
   "source": [
    "pprint(m_f_3)"
   ]
  },
  {
   "cell_type": "code",
   "execution_count": 11,
   "metadata": {},
   "outputs": [
    {
     "data": {
      "image/png": "[encoded data removed]",
      "text/plain": [
       "<Figure size 432x288 with 1 Axes>"
      ]
     },
     "metadata": {
      "needs_background": "light"
     },
     "output_type": "display_data"
    },
    {
     "data": {
      "text/plain": [
       "<sympy.plotting.plot.Plot at 0x1cc0075dfc8>"
      ]
     },
     "execution_count": 11,
     "metadata": {},
     "output_type": "execute_result"
    }
   ],
   "source": [
    "sym.plot(m_f_3.subs({p:0.5,n:50}), (x,0,50),title='binomial distribution plot for n=50')"
   ]
  },
  {
   "cell_type": "code",
   "execution_count": null,
   "metadata": {},
   "outputs": [],
   "source": []
  }
 ],
 "metadata": {
  "kernelspec": {
   "display_name": "Python 3",
   "language": "python",
   "name": "python3"
  },
  "language_info": {
   "codemirror_mode": {
    "name": "ipython",
    "version": 3
   },
   "file_extension": ".py",
   "mimetype": "text/x-python",
   "name": "python",
   "nbconvert_exporter": "python",
   "pygments_lexer": "ipython3",
   "version": "3.7.6"
  }
 },
 "nbformat": 4,
 "nbformat_minor": 4
}
